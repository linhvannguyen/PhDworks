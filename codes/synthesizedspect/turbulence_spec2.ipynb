{
 "cells": [
  {
   "cell_type": "code",
   "execution_count": 1,
   "metadata": {
    "collapsed": false
   },
   "outputs": [
    {
     "name": "stderr",
     "output_type": "stream",
     "text": [
      "/home/nguyen/anaconda/lib/python2.7/site-packages/matplotlib/font_manager.py:273: UserWarning: Matplotlib is building the font cache using fc-list. This may take a moment.\n",
      "  warnings.warn('Matplotlib is building the font cache using fc-list. This may take a moment.')\n"
     ]
    },
    {
     "name": "stdout",
     "output_type": "stream",
     "text": [
      "('Integral scale :', 0.027509901817231081)\n",
      "('Size of original sample :', 228.39718010423687, '  Int. Scale')\n",
      "('Size of sub-sampling    :', 0.44608824239108763, '  Int. Scale')\n"
     ]
    }
   ],
   "source": [
    "%matplotlib inline\n",
    "from numpy import linspace,exp\n",
    "from numpy.random import randn\n",
    "from scipy.interpolate import LSQUnivariateSpline,UnivariateSpline\n",
    "from scipy.optimize import bisect\n",
    "import matplotlib.pyplot as plt\n",
    "from pylab import*\n",
    "from scipy.fftpack import rfft\n",
    "#-----------------------------------------------------------------------\n",
    "M=10\n",
    "Q=50\n",
    "n =  2**16\n",
    "nf = 2**7\n",
    "ratio = n/nf\n",
    "kc = 10.\n",
    "pi = 3.141592\n",
    "\n",
    "xn      = linspace(0,1,n)*2.*pi  \n",
    "xnf     = linspace(0,1,nf+1)   \n",
    "xnf2    = linspace(0,2,2*nf+1)   \n",
    "\n",
    "k0      = linspace(0,n/2,n/2+1)\n",
    "k1      = linspace(0,nf/2,nf/2+1)*(n/nf)\n",
    "k2      = linspace(0,nf/2,nf/2+1)*(n/nf)\n",
    "k3      = linspace(0,nf,nf)*(n/(2*nf))\n",
    "k4      = linspace(0,nf/2,nf/2+1)*(n/nf)\n",
    "\n",
    "spect    = 1./(1.+(k0[:]/kc)**(5./3.))*exp(-0.01*(k0[:]/kc)**1.)\n",
    "spect[0] = 0.\n",
    "varo     = 2.*trapz(y=spect[:],x=k0[:])\n",
    "L        = spect[1]/varo\n",
    "\n",
    "print('Integral scale :',L)\n",
    "print('Size of original sample :',2.*pi/L,'  Int. Scale')\n",
    "print('Size of sub-sampling    :',2.*pi*float(nf)/float(n)/L,'  Int. Scale')\n",
    "\n",
    "fftfx   = zeros(n/2+1,dtype=complex)\n",
    "rfx1    = zeros(nf+1,dtype=float)\n",
    "rfx2    = zeros(nf+1,dtype=float)\n",
    "rfx3    = zeros(2*nf+1,dtype=float)\n",
    "rfx4    = zeros(nf+1,dtype=float)\n",
    "\n",
    "nspect0 = zeros(n/2+1,dtype=float)\n",
    "nspect1 = zeros(nf/2+1,dtype=float)\n",
    "nspect2 = zeros(nf/2+1,dtype=float)\n",
    "nspect3 = zeros(nf,dtype=float)\n",
    "nspect4 = zeros(nf/2+1,dtype=float)\n",
    "\n",
    "var0 = 0.\n",
    "var1 = 0.\n",
    "var2 = 0.\n",
    "var3 = 0.\n",
    "var4 = 0.\n",
    "\n",
    "for ns in range(0,int(Q)):\n",
    "\n",
    "   ang     = rand(n/2)*2.*pi\n",
    "   for i in range(0,int(n/2)):\n",
    "       fftfx[i]=sqrt(spect[i])*complex(cos(ang[i]),sin(ang[i]))\n",
    "   rfx     = irfft(fftfx)*float(n)\n",
    "   fftfx0  = rfft(rfx)/float(n)\n",
    "\n",
    "   nspect0[0:n/2] =  nspect0[0:n/2] + fftfx0[0:n:2]**2 +  fftfx0[1:n:2]**2 \n",
    "\n",
    "   var0=var0+var(rfx)\n",
    "\n",
    "#=================================\n",
    "\n",
    "   for j in range(0,M):\n",
    "\n",
    "       first  = int(rand(1)*n/2)\n",
    "#--------------------------------\n",
    "       rfx1[0:nf+1] = rfx[first:first+nf+1]\n",
    "       var1=var1+var(rfx1)\n",
    "#--------------------------------\n",
    "       rfx2[0:nf+1] = rfx1[0:nf+1]\n",
    "       for k in range(0,nf+1):\n",
    "           rfx2[k] = rfx1[k] - (rfx1[nf] - rfx1[0])*k/nf - rfx1[0]\n",
    "       var2=var2+var(rfx2)\n",
    "#--------------------------------\n",
    "       rfx3[0:nf+1] = rfx2[:]\n",
    "       for k in range(0,nf+1):\n",
    "           rfx3[nf+k] = - rfx2[nf-k]\n",
    "       var3=var3+var(rfx3)\n",
    "#--------------------------------\n",
    "#       window = np.parsen(nf+1)\n",
    "       window = np.hanning(nf+1)\n",
    "#       window = np.blackman(nf+1)\n",
    "       rfx4[0:nf+1] = rfx1[0:nf+1]* window[:]\n",
    "       var4=var4+var(rfx4)\n",
    "#--------------------------------\n",
    "       fftfx1  =  fft(rfx1[0:nf])/float(nf-1)\n",
    "       fftfx2  =  fft(rfx2[0:nf])/float(nf-1)\n",
    "       fftfx3  =  fft(rfx3[0:2*nf])/float(2*nf-1)\n",
    "       fftfx4  =  fft(rfx4[0:nf])/float(nf-1)\n",
    "\n",
    "       nspect1  =  nspect1 + absolute(fftfx1[0:nf/2+1])**2\n",
    "       nspect2  =  nspect2 + absolute(fftfx2[0:nf/2+1])**2\n",
    "       nspect3  =  nspect3 + absolute(fftfx3[0:nf])**2\n",
    "       nspect4  =  nspect4 + absolute(fftfx4[0:nf/2+1])**2\n",
    "\n",
    "nspect0 = nspect0/float(Q)\n",
    "nspect1 = nspect1/float(M)/float(Q)/float(ratio)\n",
    "nspect2 = nspect2/float(M)/float(Q)/float(ratio)\n",
    "nspect3 = nspect3/float(M)/float(Q)/float(0.5*ratio)\n",
    "nspect4 = nspect4/float(M)/float(Q)/float(ratio)*2"
   ]
  },
  {
   "cell_type": "code",
   "execution_count": 31,
   "metadata": {
    "collapsed": false
   },
   "outputs": [
    {
     "name": "stderr",
     "output_type": "stream",
     "text": [
      "/home/nguyen/anaconda/lib/python2.7/site-packages/matplotlib/font_manager.py:1297: UserWarning: findfont: Could not match :family=Bitstream Vera Sans:style=normal:variant=normal:weight=700:stretch=normal:size=35.0. Returning /usr/share/matplotlib/mpl-data/fonts/ttf/cmb10.ttf\n",
      "  UserWarning)\n"
     ]
    },
    {
     "data": {
      "image/png": "[encoded data removed]",
      "text/plain": [
       "<matplotlib.figure.Figure at 0x7f7fd58167d0>"
      ]
     },
     "metadata": {},
     "output_type": "display_data"
    }
   ],
   "source": [
    "myfont = {'family' : 'normal',\n",
    "        'weight' : 'bold',\n",
    "        'size'   : 25}\n",
    "\n",
    "matplotlib.rc('font', **myfont)\n",
    "\n",
    "kc=k0[2000]\n",
    "\n",
    "fig=plt.figure(num=None, figsize=(7, 6), dpi=300, facecolor='w', edgecolor='k')\n",
    "ax=fig.add_subplot(111)\n",
    "\n",
    "kfit = array([2.e+01,1.E+03])\n",
    "yfit = 1.E-00*(kfit/kfit[0])**(-5./3.)\n",
    "\n",
    "fig = plt.plot(k0,spect,'k-',linewidth=2.0)\n",
    "plot(kfit,yfit,'k:',linewidth=2.0)\n",
    "plt.vlines(x=kc, ymin=10e-16,ymax=2*10e-6, color='k', linestyle='--', linewidth=2.0)\n",
    "\n",
    "fill_between(k0[0:2000],spect[0:2000],0,color = (1,0.85,0.85))\n",
    "fill_between(k0[2000:-1],spect[2000:-1],0,color=(1,0.65,0.65))\n",
    "\n",
    "ax = plt.gca()\n",
    "ax.set_xlim([1,n/2])\n",
    "ax.set_ylim(1.E-15,1.E+01 )\n",
    "ax.set_xscale('log')\n",
    "ax.set_yscale('log')\n",
    "\n",
    "ax.axes.get_xaxis().set_ticks([])\n",
    "ax.axes.get_yaxis().set_ticks([])\n",
    "\n",
    "ax.set_xlabel(\"$k$\")\n",
    "ax.set_ylabel('$E(k)$')\n",
    "\n",
    "text(1.e+02,2.0E-01,'$k^{-5/3}$')\n",
    "text(1.7E3,6E-17,'$k_c$')\n",
    "text(4.e+01,2.0E-012,'$\\mathbf{z}_{lf}$',fontsize=35)\n",
    "text(3.e+03,2.0E-012,'$\\mathbf{z}_{hf}$',fontsize=35)\n",
    "\n",
    "savefig(\"./figures/turbulence_spectra_square.eps\",bbox_inches='tight')"
   ]
  }
 ],
 "metadata": {
  "kernelspec": {
   "display_name": "Python 2",
   "language": "python",
   "name": "python2"
  },
  "language_info": {
   "codemirror_mode": {
    "name": "ipython",
    "version": 2
   },
   "file_extension": ".py",
   "mimetype": "text/x-python",
   "name": "python",
   "nbconvert_exporter": "python",
   "pygments_lexer": "ipython2",
   "version": "2.7.11"
  }
 },
 "nbformat": 4,
 "nbformat_minor": 0
}
